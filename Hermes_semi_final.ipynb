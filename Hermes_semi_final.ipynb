{
  "nbformat": 4,
  "nbformat_minor": 0,
  "metadata": {
    "colab": {
      "name": "Hermes_semi_final.ipynb",
      "private_outputs": true,
      "provenance": [],
      "collapsed_sections": []
    },
    "kernelspec": {
      "name": "python3",
      "display_name": "Python 3"
    },
    "language_info": {
      "name": "python"
    },
    "accelerator": "GPU"
  },
  "cells": [
    {
      "cell_type": "code",
      "metadata": {
        "id": "ihPc5XrCdO04"
      },
      "source": [
        "import numpy as np \n",
        "import pandas as pd \n",
        "import matplotlib.pyplot as plt\n",
        "import torch\n",
        "import sklearn\n",
        "import seaborn as sns\n",
        "import os "
      ],
      "execution_count": null,
      "outputs": []
    },
    {
      "cell_type": "markdown",
      "metadata": {
        "id": "ZY0QmE9whBpe"
      },
      "source": [
        "# import csv file"
      ]
    },
    {
      "cell_type": "code",
      "metadata": {
        "id": "Bgbu4_a0g_Vd"
      },
      "source": [
        "df = pd.read_csv('/content/dataset.csv', header=0, index_col=0, parse_dates=True, squeeze=True)\n"
      ],
      "execution_count": null,
      "outputs": []
    },
    {
      "cell_type": "markdown",
      "metadata": {
        "id": "ttjRZc7_hO7X"
      },
      "source": [
        "# Looking into data(df)"
      ]
    },
    {
      "cell_type": "code",
      "metadata": {
        "id": "UJzKbyj2hMiw"
      },
      "source": [
        "df.head(10)"
      ],
      "execution_count": null,
      "outputs": []
    },
    {
      "cell_type": "code",
      "metadata": {
        "id": "k8BgUkzrh_oY"
      },
      "source": [
        "print(df.describe())"
      ],
      "execution_count": null,
      "outputs": []
    },
    {
      "cell_type": "markdown",
      "metadata": {
        "id": "_5PDk1aTiS1t"
      },
      "source": [
        "# Working with NAN data"
      ]
    },
    {
      "cell_type": "code",
      "metadata": {
        "id": "JYrgyvHOiJlN"
      },
      "source": [
        "df.isna().sum() "
      ],
      "execution_count": null,
      "outputs": []
    },
    {
      "cell_type": "markdown",
      "metadata": {
        "id": "yZ92WrbBiZht"
      },
      "source": [
        "# first delete NAN data"
      ]
    },
    {
      "cell_type": "code",
      "metadata": {
        "id": "xMiM3EnpiWAS"
      },
      "source": [
        "data = df.dropna() \n",
        "data.head(10)"
      ],
      "execution_count": null,
      "outputs": []
    },
    {
      "cell_type": "markdown",
      "metadata": {
        "id": "c7YAfYZGihoL"
      },
      "source": [
        "# Plot"
      ]
    },
    {
      "cell_type": "code",
      "metadata": {
        "id": "sJ9OASVuid3v"
      },
      "source": [
        "plt.figure(figsize=(10,10))\n",
        "plt.xlabel(\"Months\")\n",
        "plt.ylabel(\"counter\")\n",
        "sns.distplot(data[\"ret_wrt_ind_fwd30d_log\"]);\n",
        "plt.grid()\n",
        "plt.show()"
      ],
      "execution_count": null,
      "outputs": []
    },
    {
      "cell_type": "markdown",
      "metadata": {
        "id": "JrekS7K5iq3n"
      },
      "source": [
        "## Adding MFI indicator\n",
        "### /3(کمترین قیمت+ بالاترین قیمت+قیمت بسته"
      ]
    },
    {
      "cell_type": "code",
      "metadata": {
        "id": "1fMK9m1xikJf"
      },
      "source": [
        "import sys\n",
        "\n",
        "if not sys.warnoptions:\n",
        "    import warnings\n",
        "    warnings.simplefilter(\"ignore\")\n",
        "    \n",
        "    \n",
        "data[\"MFI\"] = (data[\"adj_close_price\"]+data[\"adj_max_price\"]+data[\"adj_min_price\"])/3;"
      ],
      "execution_count": null,
      "outputs": []
    },
    {
      "cell_type": "code",
      "metadata": {
        "id": "rTQ_c7NWivCU"
      },
      "source": [
        "data"
      ],
      "execution_count": null,
      "outputs": []
    },
    {
      "cell_type": "markdown",
      "metadata": {
        "id": "AAaRbVBai3it"
      },
      "source": [
        "# Plot MFI coloumns"
      ]
    },
    {
      "cell_type": "code",
      "metadata": {
        "id": "bxwU3-5cizIV"
      },
      "source": [
        "plt.figure(figsize = (10,10))\n",
        "plt.grid()\n",
        "plt.plot(data[\"MFI\"])\n",
        "plt.show()"
      ],
      "execution_count": null,
      "outputs": []
    },
    {
      "cell_type": "code",
      "metadata": {
        "id": "RoFrQIesi7_9"
      },
      "source": [
        "plt.figure(figsize = (10,10))\n",
        "plt.grid()\n",
        "plt.hist(data[\"MFI\"],color = \"red\")\n",
        "plt.show()"
      ],
      "execution_count": null,
      "outputs": []
    },
    {
      "cell_type": "code",
      "metadata": {
        "id": "MsdR4jGajAAD"
      },
      "source": [
        "data.plot(x='date', y='adj_close_price',style = \"-\")\n",
        "plt.grid()\n",
        "plt.show()"
      ],
      "execution_count": null,
      "outputs": []
    },
    {
      "cell_type": "markdown",
      "metadata": {
        "id": "N7VoVnU7jGlg"
      },
      "source": [
        "# Add average_day column"
      ]
    },
    {
      "cell_type": "code",
      "metadata": {
        "id": "jQn8-sY5jC5J"
      },
      "source": [
        "data[\"average_day\"] = (data[\"adj_max_price\"]+data[\"adj_min_price\"])/2\n",
        "print(data[\"average_day\"])"
      ],
      "execution_count": null,
      "outputs": []
    },
    {
      "cell_type": "code",
      "metadata": {
        "id": "S0kOLgLWjMsW"
      },
      "source": [
        "plt.figure(figsize = (15,15))\n",
        "data.plot(x='date', y='adj_volume',style = \"-\")\n",
        "plt.grid()\n",
        "plt.show()"
      ],
      "execution_count": null,
      "outputs": []
    },
    {
      "cell_type": "code",
      "metadata": {
        "id": "BArgvOeojYDf"
      },
      "source": [
        "spy = data.sort_values(by='date')\n",
        "spy.set_index('date',inplace=True)\n",
        "spy['adj_close_price'].plot(figsize=(16, 12))"
      ],
      "execution_count": null,
      "outputs": []
    },
    {
      "cell_type": "markdown",
      "metadata": {
        "id": "AUXV3MXGjrNl"
      },
      "source": [
        "# P = number of periods (20 commonly used)\n",
        "\n",
        "# MA  = moving average, moving average = typical price / p"
      ]
    },
    {
      "cell_type": "code",
      "metadata": {
        "id": "SEffQ_SGjncC"
      },
      "source": [
        "p = 20\n",
        "data[\"MA\"] = data[\"adj_close_price\"]/p ;"
      ],
      "execution_count": null,
      "outputs": []
    },
    {
      "cell_type": "markdown",
      "metadata": {
        "id": "UrOG86nvj0jm"
      },
      "source": [
        "# mean deviation = (typical price — MA) / p"
      ]
    },
    {
      "cell_type": "code",
      "metadata": {
        "id": "FdqQhn6WjwAj"
      },
      "source": [
        "data[\"mean-deviation\"] = (data[\"adj_close_price\"]-data[\"MA\"])/p\n",
        "plt.plot(data[\"mean-deviation\"])\n",
        "plt.show()"
      ],
      "execution_count": null,
      "outputs": []
    },
    {
      "cell_type": "markdown",
      "metadata": {
        "id": "Oh4WEFKvltR4"
      },
      "source": [
        "#Set the date as the index"
      ]
    },
    {
      "cell_type": "code",
      "metadata": {
        "id": "A79sLwQQj3xT"
      },
      "source": [
        "data = data.set_index(pd.DatetimeIndex(data['date'].values))\n",
        "data.head(10)"
      ],
      "execution_count": null,
      "outputs": []
    },
    {
      "cell_type": "code",
      "metadata": {
        "id": "ajrqmGfQlqfr"
      },
      "source": [
        "plt.figure(figsize=(12.2,4.5)) #width = 12.2in, height = 4.5\n",
        "plt.plot( data['adj_close_price'],  label='Close Price')#plt.plot( X-Axis , Y-Axis, line_width, alpha_for_blending,  label)  \n",
        "plt.title('Close Price History')\n",
        "plt.xlabel('Date',fontsize=18)\n",
        "plt.ylabel('Close Price USD ($)',fontsize=18)\n",
        "plt.legend(df.columns.values, loc='upper left')\n",
        "plt.show()"
      ],
      "execution_count": null,
      "outputs": []
    },
    {
      "cell_type": "markdown",
      "metadata": {
        "id": "pdG75TtkmKp5"
      },
      "source": [
        "#Calculate the typical price"
      ]
    },
    {
      "cell_type": "code",
      "metadata": {
        "id": "nZHDpscJl_R7"
      },
      "source": [
        "typical_price = (data['adj_close_price'] + data['adj_max_price'] + data['adj_min_price']) / 3\n",
        "typical_price"
      ],
      "execution_count": null,
      "outputs": []
    },
    {
      "cell_type": "markdown",
      "metadata": {
        "id": "0Xdl5ppLmXZB"
      },
      "source": [
        "# Get the time period."
      ]
    },
    {
      "cell_type": "code",
      "metadata": {
        "id": "EWvO-pGtmUML"
      },
      "source": [
        "period =  14 #The typical period used for MFI is 14 days"
      ],
      "execution_count": null,
      "outputs": []
    },
    {
      "cell_type": "code",
      "metadata": {
        "id": "8PKZYOQpmb-0"
      },
      "source": [
        "#Calculate the money flow\n",
        "money_flow = typical_price * data['adj_volume']\n",
        "money_flow"
      ],
      "execution_count": null,
      "outputs": []
    },
    {
      "cell_type": "code",
      "metadata": {
        "id": "9O9CvIw9mgDZ"
      },
      "source": [
        "#Get all of the positive and negative money flows \n",
        "#where the current typical price is higher than the previous day's typical price, we will append that days money flow to a positive list\n",
        "#and where the current typical price is lower than the previous day's typical price, we will append that days money flow to a negative list\n",
        "#and set any other value to 0 to be used when summing\n",
        "positive_flow =[] #Create a empty list called positive flow\n",
        "negative_flow = [] #Create a empty list called negative flow\n",
        "#Loop through the typical price \n",
        "for i in range(1, len(typical_price)):\n",
        "  if typical_price[i] > typical_price[i-1]: #if the present typical price is greater than yesterdays typical price\n",
        "    positive_flow.append(money_flow[i-1])# Then append money flow at position i-1 to the positive flow list\n",
        "    negative_flow.append(0) #Append 0 to the negative flow list\n",
        "  elif typical_price[i] < typical_price[i-1]:#if the present typical price is less than yesterdays typical price\n",
        "    negative_flow.append(money_flow[i-1])# Then append money flow at position i-1 to negative flow list\n",
        "    positive_flow.append(0)#Append 0 to the positive flow list\n",
        "  else: #Append 0 if the present typical price is equal to yesterdays typical price\n",
        "    positive_flow.append(0)\n",
        "    negative_flow.append(0)"
      ],
      "execution_count": null,
      "outputs": []
    },
    {
      "cell_type": "code",
      "metadata": {
        "id": "WEWw0vUkm39c"
      },
      "source": [
        "#Get all of the positive and negative money flows within the time period\n",
        "positive_mf =[]\n",
        "negative_mf = [] \n",
        "#Get all of the positive money flows within the time period\n",
        "for i in range(period-1, len(positive_flow)):\n",
        "  positive_mf.append(sum(positive_flow[i+1-period : i+1]))\n",
        "#Get all of the negative money flows within the time period  \n",
        "for i in range(period-1, len(negative_flow)):\n",
        "  negative_mf.append(sum(negative_flow[i+1-period : i+1]))"
      ],
      "execution_count": null,
      "outputs": []
    },
    {
      "cell_type": "code",
      "metadata": {
        "id": "UapsaFN5m8Ac"
      },
      "source": [
        "mfi = 100 * (np.array(positive_mf) / (np.array(positive_mf)  + np.array(negative_mf) ))\n",
        "mfi"
      ],
      "execution_count": null,
      "outputs": []
    },
    {
      "cell_type": "code",
      "metadata": {
        "id": "cmXq9cWcm_0g"
      },
      "source": [
        "# Visually Show The Money Flow Index\n",
        "df2 = pd.DataFrame()\n",
        "df2['MFI'] = mfi\n",
        "#Create and plot the graph\n",
        "plt.figure(figsize=(12.2,4.5)) #width = 12.2in, height = 4.5\n",
        "plt.plot( df2['MFI'],  label='MFI')#plt.plot( X-Axis , Y-Axis, line_width, alpha_for_blending,  label)\n",
        "plt.axhline(10, linestyle='--', color = 'orange')  #Over Sold line (Buy)\n",
        "plt.axhline(20, linestyle='--',color = 'blue')  #Over Sold Line (Buy)\n",
        "plt.axhline(80, linestyle='--', color = 'blue')  #Over Bought line (Sell)\n",
        "plt.axhline(90, linestyle='--', color = 'orange')  #Over Bought line (Sell)\n",
        "plt.title('MFI')\n",
        "plt.ylabel('MFI Values',fontsize=18)\n",
        "plt.legend(df2.columns.values, loc='upper left')\n",
        "plt.show()"
      ],
      "execution_count": null,
      "outputs": []
    },
    {
      "cell_type": "code",
      "metadata": {
        "id": "h744bjehnFP0"
      },
      "source": [
        "#Create a new data frame\n",
        "new_df = pd.DataFrame()\n",
        "new_df = data[period:]\n",
        "new_df['MFI'] = mfi\n",
        "#Show the new data frame\n",
        "new_df"
      ],
      "execution_count": null,
      "outputs": []
    },
    {
      "cell_type": "markdown",
      "metadata": {
        "id": "FbXd0ujVA1uz"
      },
      "source": [
        "# Average basse for close_price ---> in date"
      ]
    },
    {
      "cell_type": "code",
      "metadata": {
        "id": "uRhJuoSX1kg2"
      },
      "source": [
        "close_px = new_df['adj_close_price']\n",
        "mavg = close_px.rolling(window=100).mean()\n",
        "mavg"
      ],
      "execution_count": null,
      "outputs": []
    },
    {
      "cell_type": "markdown",
      "metadata": {
        "id": "dRrSA6eYBKb8"
      },
      "source": [
        "# Plot AAPL and MAVG"
      ]
    },
    {
      "cell_type": "code",
      "metadata": {
        "id": "cg-caZcu_Ox0"
      },
      "source": [
        "%matplotlib inline\n",
        "import matplotlib.pyplot as plt\n",
        "from matplotlib import style\n",
        "\n",
        "# Adjusting the size of matplotlib\n",
        "import matplotlib as mpl\n",
        "mpl.rc('figure', figsize=(10, 10))\n",
        "mpl.__version__\n",
        "\n",
        "# Adjusting the style of matplotlib\n",
        "style.use('ggplot')\n",
        "\n",
        "close_px.plot(label='AAPL')\n",
        "mavg.plot(label='mavg')\n",
        "plt.legend()"
      ],
      "execution_count": null,
      "outputs": []
    },
    {
      "cell_type": "markdown",
      "metadata": {
        "id": "jZjKrk-tBXuC"
      },
      "source": [
        "# **Return Deviation — to determine risk and return**\n",
        "#Expected Return measures the mean, or expected value, of the probability distribution of investment returns. The expected return of a portfolio is calculated by multiplying the weight of each asset by its expected return and adding the values for each investment — Investopedia.\n"
      ]
    },
    {
      "cell_type": "code",
      "metadata": {
        "id": "XG6Y3YPoBU0I"
      },
      "source": [
        "rets = close_px / close_px.shift(1) - 1\n",
        "rets.plot(label='return')"
      ],
      "execution_count": null,
      "outputs": []
    },
    {
      "cell_type": "markdown",
      "metadata": {
        "id": "Xr39OabxILxx"
      },
      "source": [
        "# Addin CCI indicator\n",
        "#CCI = (TP - SMA 20 OF TP) / (0.15 * MEAN DEVIATION)\n",
        "where //\n",
        "Typical Price (TP) = (HIGH + LOW + CLOSE) / 3\n",
        "SMA 20 of TP = Typical Price / 20\n",
        "Mean Deviation = Absolute values of Typical Price / 20"
      ]
    },
    {
      "cell_type": "code",
      "metadata": {
        "id": "Irv4zVj-FFoo"
      },
      "source": [
        "import numpy as np\n",
        "new_df[\"CCI\"]  = (new_df[\"MFI\"]-(new_df[\"MFI\"]/p))/(0.15*new_df[\"mean-deviation\"])\n"
      ],
      "execution_count": null,
      "outputs": []
    },
    {
      "cell_type": "code",
      "metadata": {
        "id": "j3aQGnDbeiy2"
      },
      "source": [
        "new_df"
      ],
      "execution_count": null,
      "outputs": []
    },
    {
      "cell_type": "markdown",
      "metadata": {
        "id": "mBsuAFNlhn9w"
      },
      "source": [
        "# **CCI Plot**\n",
        "In this step, we are going to plot the extracted Commodity Channel Index values of **Hermes** to make more sense out of it. The main aim of this part is not on the coding section but instead to **observe the plot to gain a solid understanding of** the Commodity Channel Index."
      ]
    },
    {
      "cell_type": "code",
      "metadata": {
        "id": "SquVnhSKFMRg"
      },
      "source": [
        "ax1 = plt.subplot2grid((10,1), (0,0), rowspan = 5, colspan = 1)\n",
        "ax2 = plt.subplot2grid((10,1), (6,0), rowspan = 4, colspan = 1)\n",
        "ax1.plot(new_df['adj_close_price'])\n",
        "ax1.set_title('Hermes SHARE PRICE')\n",
        "ax2.plot(new_df['CCI'], color = 'orange')\n",
        "ax2.set_title('Hermes CCI 14')\n",
        "ax2.axhline(150, linestyle = '--', linewidth = 1, color = 'black')\n",
        "ax2.axhline(-150, linestyle = '--', linewidth = 1, color = 'black')\n",
        "plt.show()"
      ],
      "execution_count": null,
      "outputs": []
    },
    {
      "cell_type": "markdown",
      "metadata": {
        "id": "iF8WwVJSiOrk"
      },
      "source": [
        "# **Creating the trading strategy**\n",
        "#In this step, we are going to implement the discussed CCI trading strategy in python with the overbought and oversold levels as 150 and -150 respectively."
      ]
    },
    {
      "cell_type": "code",
      "metadata": {
        "id": "rVqQKgtiLaAs"
      },
      "source": [
        "def implement_cci_strategy(prices, cci):\n",
        "    buy_price = []\n",
        "    sell_price = []\n",
        "    cci_signal = []\n",
        "    signal = 0\n",
        "    \n",
        "    lower_band = (-150)\n",
        "    upper_band = 150\n",
        "    \n",
        "    for i in range(len(prices)):\n",
        "        if cci[i-1] > lower_band and cci[i] < lower_band:\n",
        "            if signal != 1:\n",
        "                buy_price.append(prices[i])\n",
        "                sell_price.append(np.nan)\n",
        "                signal = 1\n",
        "                cci_signal.append(signal)\n",
        "            else:\n",
        "                buy_price.append(np.nan)\n",
        "                sell_price.append(np.nan)\n",
        "                cci_signal.append(0)\n",
        "                \n",
        "        elif cci[i-1] < upper_band and cci[i] > upper_band:\n",
        "            if signal != -1:\n",
        "                buy_price.append(np.nan)\n",
        "                sell_price.append(prices[i])\n",
        "                signal = -1\n",
        "                cci_signal.append(signal)\n",
        "            else:\n",
        "                buy_price.append(np.nan)\n",
        "                sell_price.append(np.nan)\n",
        "                cci_signal.append(0)\n",
        "                \n",
        "        else:\n",
        "            buy_price.append(np.nan)\n",
        "            sell_price.append(np.nan)\n",
        "            cci_signal.append(0)\n",
        "            \n",
        "    return buy_price, sell_price, cci_signal\n",
        "\n",
        "buy_price, sell_price, cci_signal = implement_cci_strategy(new_df['adj_close_price'],new_df['CCI'])"
      ],
      "execution_count": null,
      "outputs": []
    },
    {
      "cell_type": "markdown",
      "metadata": {
        "id": "MBF1hqRMiZe1"
      },
      "source": [
        "# **Plotting the trading signals**\n",
        "#In this step, we are going to plot the created trading lists to make sense out of them."
      ]
    },
    {
      "cell_type": "code",
      "metadata": {
        "id": "TP-4YL0xL0Tm"
      },
      "source": [
        "ax1 = plt.subplot2grid((10,1), (0,0), rowspan = 5, colspan = 1)\n",
        "ax2 = plt.subplot2grid((10,1), (6,0), rowspan = 4, colspan = 1)\n",
        "ax1.plot(new_df['adj_close_price'], color = 'skyblue', label = 'FB')\n",
        "ax1.plot(new_df.index, buy_price, marker = '^', markersize = 12, linewidth = 0, label = 'BUY SIGNAL', color = 'green')\n",
        "ax1.plot(new_df.index, sell_price, marker = 'v', markersize = 12, linewidth = 0, label = 'SELL SIGNAL', color = 'r')\n",
        "ax1.set_title('Hermes SHARE PRICE')\n",
        "ax1.legend()\n",
        "ax2.plot(new_df['CCI'], color = 'orange')\n",
        "ax2.set_title('Hermes CCI 14')\n",
        "ax2.axhline(150, linestyle = '--', linewidth = 1, color = 'black')\n",
        "ax2.axhline(-150, linestyle = '--', linewidth = 1, color = 'black')\n",
        "plt.show()"
      ],
      "execution_count": null,
      "outputs": []
    },
    {
      "cell_type": "markdown",
      "metadata": {
        "id": "mzXVdS0WimGr"
      },
      "source": [
        "# **Creating our Position**\n",
        "#In this step, we are going to create a list that indicates 1 if we hold the stock or 0 if we don’t own or hold the stock."
      ]
    },
    {
      "cell_type": "code",
      "metadata": {
        "id": "H48kr-O4f1Cg"
      },
      "source": [
        "position = []\n",
        "for i in range(len(cci_signal)):\n",
        "    if cci_signal[i] > 1:\n",
        "        position.append(0)\n",
        "    else:\n",
        "        position.append(1)\n",
        "        \n",
        "for i in range(len(new_df['adj_close_price'])):\n",
        "    if cci_signal[i] == 1:\n",
        "        position[i] = 1\n",
        "    elif cci_signal[i] == -1:\n",
        "        position[i] = 0\n",
        "    else:\n",
        "        position[i] = position[i-1]\n",
        "        \n",
        "cci = new_df['CCI']\n",
        "close_price = new_df['adj_close_price']\n",
        "cci_signal = pd.DataFrame(cci_signal).rename(columns = {0:'cci_signal'}).set_index(new_df.index)\n",
        "position = pd.DataFrame(position).rename(columns = {0:'cci_position'}).set_index(new_df.index)\n",
        "\n",
        "frames = [close_price, cci, cci_signal, position]\n",
        "strategy = pd.concat(frames, join = 'inner', axis = 1)\n",
        "\n",
        "strategy.head()\n"
      ],
      "execution_count": null,
      "outputs": []
    },
    {
      "cell_type": "markdown",
      "metadata": {
        "id": "PQq666f4jBRR"
      },
      "source": [
        "# **Backtesting**\n",
        "#Before moving on, it is essential to know what backtesting is. Backtesting is the process of seeing how well our trading strategy has performed on the given stock data. In our case, we are going to implement a backtesting process for our CCI trading strategy over the Facebook stock data."
      ]
    },
    {
      "cell_type": "code",
      "metadata": {
        "id": "XoIG5Gd1gOen"
      },
      "source": [
        "import requests\n",
        "from termcolor import colored as cl\n",
        "fb_ret = pd.DataFrame(np.diff(new_df['adj_close_price'])).rename(columns = {0:'returns'})\n",
        "cci_strategy_ret = []\n",
        "\n",
        "for i in range(len(fb_ret)):\n",
        "    returns = fb_ret['returns'][i]*strategy['cci_position'][i]\n",
        "    cci_strategy_ret.append(returns)\n",
        "    \n",
        "cci_strategy_ret_df = pd.DataFrame(cci_strategy_ret).rename(columns = {0:'cci_returns'})\n",
        "investment_value = 100000\n",
        "number_of_stocks = np.floor(investment_value/new_df['adj_close_price'][-1])\n",
        "cci_investment_ret = []\n",
        "\n",
        "for i in range(len(cci_strategy_ret_df['cci_returns'])):\n",
        "    returns = number_of_stocks*cci_strategy_ret_df['cci_returns'][i]\n",
        "    cci_investment_ret.append(returns)\n",
        "\n",
        "cci_investment_ret_df = pd.DataFrame(cci_investment_ret).rename(columns = {0:'investment_returns'})\n",
        "total_investment_ret = round(sum(cci_investment_ret_df['investment_returns']), 2)\n",
        "profit_percentage = round((total_investment_ret/investment_value)*100, 2)\n",
        "print(cl('Profit gained from the CCI strategy by investing $100k in FB : {}'.format(total_investment_ret), attrs = ['bold']))\n",
        "print(cl('Profit percentage of the CCI strategy : {}%'.format(profit_percentage), attrs = ['bold']))"
      ],
      "execution_count": null,
      "outputs": []
    },
    {
      "cell_type": "code",
      "metadata": {
        "id": "JLmKz0ziglgv"
      },
      "source": [
        "ekhtelaf = new_df[\"adj_close_price\"] - new_df[\"adj_last_price\"]\n",
        "plt.plot(ekhtelaf)"
      ],
      "execution_count": null,
      "outputs": []
    },
    {
      "cell_type": "code",
      "metadata": {
        "id": "WvaeS_IUl63r"
      },
      "source": [
        "new_df.head(15)"
      ],
      "execution_count": null,
      "outputs": []
    },
    {
      "cell_type": "markdown",
      "metadata": {
        "id": "6n-8xvw4pw1R"
      },
      "source": [
        "# **Create binary class**"
      ]
    },
    {
      "cell_type": "code",
      "metadata": {
        "id": "9P7ab-immciD"
      },
      "source": [
        "new_df[\"class\"] = new_df[\"ret1d_log\"] + 1\n",
        "for i in range(0,len(new_df[\"ret30d_log\"]-1)):\n",
        "    if (new_df[\"ret1d_log\"][i]/(new_df[\"ret30d_log\"][i]/2))*100 > 0.85:\n",
        "        new_df[\"class\"][i] = 1\n",
        "    else:\n",
        "        new_df[\"class\"][i] = 0"
      ],
      "execution_count": null,
      "outputs": []
    },
    {
      "cell_type": "code",
      "metadata": {
        "id": "bVRettLqmp_g"
      },
      "source": [
        "new_df[\"class\"]"
      ],
      "execution_count": null,
      "outputs": []
    },
    {
      "cell_type": "code",
      "metadata": {
        "id": "g45WgEibpuBr"
      },
      "source": [
        "plt.hist(new_df[\"class\"]);\n"
      ],
      "execution_count": null,
      "outputs": []
    },
    {
      "cell_type": "code",
      "metadata": {
        "id": "4bCsPH58wOzb"
      },
      "source": [
        "new_df.shape"
      ],
      "execution_count": null,
      "outputs": []
    },
    {
      "cell_type": "code",
      "metadata": {
        "id": "FYGqyO5FxKSA"
      },
      "source": [
        "new_df.head(3)"
      ],
      "execution_count": null,
      "outputs": []
    },
    {
      "cell_type": "code",
      "metadata": {
        "id": "FGhReg7_vjbw"
      },
      "source": [
        "del new_df[\"stock_name\"]"
      ],
      "execution_count": null,
      "outputs": []
    },
    {
      "cell_type": "code",
      "metadata": {
        "id": "kHohEVQ8xYTf"
      },
      "source": [
        "del new_df[\"date\"]"
      ],
      "execution_count": null,
      "outputs": []
    },
    {
      "cell_type": "code",
      "metadata": {
        "id": "hzoRRzDtxbnG"
      },
      "source": [
        "new_df.head(3)"
      ],
      "execution_count": null,
      "outputs": []
    },
    {
      "cell_type": "markdown",
      "metadata": {
        "id": "DASu3DtN03ln"
      },
      "source": [
        "# **Using LogesticRegression for classification**"
      ]
    },
    {
      "cell_type": "code",
      "metadata": {
        "id": "Kcy0VtqdyfQE"
      },
      "source": [
        "from sklearn.model_selection import train_test_split\n",
        "train_x, test_x, train_lbl, test_lbl = train_test_split( new_df.iloc[:,:-1], new_df[\"class\"], test_size=1/7.0, random_state=0)"
      ],
      "execution_count": null,
      "outputs": []
    },
    {
      "cell_type": "code",
      "metadata": {
        "id": "k9XWfkvzzyhX"
      },
      "source": [
        "from sklearn.preprocessing import StandardScaler\n",
        "scaler = StandardScaler()\n",
        "# Fit on training set only.\n",
        "scaler.fit(train_x)\n",
        "# Apply transform to both the training set and the test set.\n",
        "train_x = scaler.transform(train_x)\n",
        "test_x = scaler.transform(test_x)\n"
      ],
      "execution_count": null,
      "outputs": []
    },
    {
      "cell_type": "code",
      "metadata": {
        "id": "HU1d58AN0RaM"
      },
      "source": [
        "from sklearn.linear_model import LogisticRegression\n",
        "logisticRegr = LogisticRegression(solver = 'lbfgs')\n",
        "logisticRegr.fit(train_x, train_lbl)"
      ],
      "execution_count": null,
      "outputs": []
    },
    {
      "cell_type": "code",
      "metadata": {
        "id": "9adEqI7l0Zl2"
      },
      "source": [
        "logisticRegr.predict(test_x[0].reshape(1,-1))"
      ],
      "execution_count": null,
      "outputs": []
    },
    {
      "cell_type": "code",
      "metadata": {
        "id": "y5W-d_ih0iRE"
      },
      "source": [
        "logisticRegr.predict(test_x[0:10])"
      ],
      "execution_count": null,
      "outputs": []
    },
    {
      "cell_type": "markdown",
      "metadata": {
        "id": "mz4rgeL21E3o"
      },
      "source": [
        "# **Accuracy is not good**"
      ]
    },
    {
      "cell_type": "code",
      "metadata": {
        "id": "butQHCep0mdu"
      },
      "source": [
        "logisticRegr.score(test_x, test_lbl)"
      ],
      "execution_count": null,
      "outputs": []
    },
    {
      "cell_type": "markdown",
      "metadata": {
        "id": "FHTMTMkBE1We"
      },
      "source": [
        "# **Decision Tree**"
      ]
    },
    {
      "cell_type": "code",
      "metadata": {
        "id": "dzKWpqBqAfQw"
      },
      "source": [
        "from sklearn.tree import DecisionTreeClassifier\n",
        "clf = DecisionTreeClassifier(max_depth = 2, random_state = 0)"
      ],
      "execution_count": null,
      "outputs": []
    },
    {
      "cell_type": "code",
      "metadata": {
        "id": "RJD7zZFGCFX4"
      },
      "source": [
        "clf.fit(train_x,train_lbl)"
      ],
      "execution_count": null,
      "outputs": []
    },
    {
      "cell_type": "code",
      "metadata": {
        "id": "AOSr_GGYCLo-"
      },
      "source": [
        "# Predict for 1 observation\n",
        "clf.predict(test_x[0:10])\n",
        "# Predict for multiple observations\n",
        "clf.predict(test_x[0:10])"
      ],
      "execution_count": null,
      "outputs": []
    },
    {
      "cell_type": "markdown",
      "metadata": {
        "id": "vv0kM-tkE7PI"
      },
      "source": [
        "# **Decision tree > Logestic Regression**"
      ]
    },
    {
      "cell_type": "code",
      "metadata": {
        "id": "vlPbMHvVCk0_"
      },
      "source": [
        "# The score method returns the accuracy of the model\n",
        "score = clf.score(test_x,test_lbl)\n",
        "print(score)"
      ],
      "execution_count": null,
      "outputs": []
    },
    {
      "cell_type": "code",
      "metadata": {
        "id": "pEYBQqzDC5Fx"
      },
      "source": [
        "# List of values to try for max_depth:\n",
        "max_depth_range = list(range(1, 6))\n",
        "# List to store the accuracy for each value of max_depth:\n",
        "accuracy = []\n",
        "for depth in max_depth_range:\n",
        "    \n",
        "    clf = DecisionTreeClassifier(max_depth = depth, \n",
        "                             random_state = 0)\n",
        "    clf.fit(train_x, train_lbl)\n",
        "    score = clf.score(test_x, test_lbl)\n",
        "    accuracy.append(score)"
      ],
      "execution_count": null,
      "outputs": []
    },
    {
      "cell_type": "code",
      "metadata": {
        "id": "5GdM65q_EN9g"
      },
      "source": [
        "plt.plot(max_depth_range,accuracy)"
      ],
      "execution_count": null,
      "outputs": []
    },
    {
      "cell_type": "markdown",
      "metadata": {
        "id": "YeC9OClh9SJz"
      },
      "source": [
        "# **KNN classifiers**"
      ]
    },
    {
      "cell_type": "code",
      "metadata": {
        "id": "HEXi59KOn6mt"
      },
      "source": [
        "#import KNeighborsClassifier\n",
        "from sklearn.neighbors import KNeighborsClassifier\n",
        "\n",
        "#Setup arrays to store training and test accuracies\n",
        "neighbors = np.arange(1,5)\n",
        "train_accuracy =np.empty(len(neighbors))\n",
        "test_accuracy = np.empty(len(neighbors))\n",
        "\n",
        "for i,k in enumerate(neighbors):\n",
        "    #Setup a knn classifier with k neighbors\n",
        "    knn = KNeighborsClassifier(n_neighbors=k)\n",
        "    \n",
        "    #Fit the model\n",
        "    knn.fit(train_x,train_lbl)\n",
        "    \n",
        "    #Compute accuracy on the training set\n",
        "    train_accuracy[i] = knn.score(train_x,train_lbl)\n",
        "    \n",
        "    #Compute accuracy on the test set\n",
        "    test_accuracy[i] = knn.score(test_x,test_lbl) \n",
        "\n"
      ],
      "execution_count": null,
      "outputs": []
    },
    {
      "cell_type": "code",
      "metadata": {
        "id": "8M6OV8g6n6po"
      },
      "source": [
        "plt.title('k-NN Varying number of neighbors')\n",
        "plt.plot(neighbors, test_accuracy, label='Testing Accuracy')\n",
        "plt.plot(neighbors, train_accuracy, label='Training accuracy')\n",
        "plt.legend()\n",
        "plt.xlabel('Number of neighbors')\n",
        "plt.ylabel('Accuracy')\n",
        "plt.show()\n"
      ],
      "execution_count": null,
      "outputs": []
    },
    {
      "cell_type": "code",
      "metadata": {
        "id": "Z8UX0iSL8n7B"
      },
      "source": [
        "knn.score(test_x,test_lbl)"
      ],
      "execution_count": null,
      "outputs": []
    },
    {
      "cell_type": "code",
      "metadata": {
        "id": "zI9UNv-X8cij"
      },
      "source": [
        "y_pred = knn.predict(test_x)"
      ],
      "execution_count": null,
      "outputs": []
    },
    {
      "cell_type": "code",
      "metadata": {
        "id": "KVGC5PEkn7ZB"
      },
      "source": [
        "from sklearn.metrics import classification_report\n",
        "print(classification_report(test_lbl,y_pred))"
      ],
      "execution_count": null,
      "outputs": []
    },
    {
      "cell_type": "markdown",
      "metadata": {
        "id": "rG1owXGw-2eS"
      },
      "source": [
        "# **XGboost classifier**"
      ]
    },
    {
      "cell_type": "code",
      "metadata": {
        "id": "ahNcAAg3n7gg"
      },
      "source": [
        "from xgboost import XGBClassifier\n",
        "model = XGBClassifier()\n",
        "model.fit(train_x,train_lbl)"
      ],
      "execution_count": null,
      "outputs": []
    },
    {
      "cell_type": "code",
      "metadata": {
        "id": "Sdyuwy7C-TVO"
      },
      "source": [
        "y_pred = model.predict(test_x)\n",
        "predictions = [round(value) for value in y_pred]"
      ],
      "execution_count": null,
      "outputs": []
    },
    {
      "cell_type": "code",
      "metadata": {
        "id": "SO7sY8wG-kZ6"
      },
      "source": [
        "from sklearn.metrics import accuracy_score\n",
        "accuracy = accuracy_score(test_lbl, predictions)\n",
        "print(\"Accuracy: %.2f%%\" % (accuracy * 100.0))"
      ],
      "execution_count": null,
      "outputs": []
    },
    {
      "cell_type": "code",
      "metadata": {
        "id": "bLyUSjaT-qH1"
      },
      "source": [
        ""
      ],
      "execution_count": null,
      "outputs": []
    }
  ]
}